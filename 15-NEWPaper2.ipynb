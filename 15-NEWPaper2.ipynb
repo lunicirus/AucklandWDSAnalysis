{
 "cells": [
  {
   "cell_type": "code",
   "execution_count": null,
   "metadata": {},
   "outputs": [],
   "source": []
  },
  {
   "cell_type": "raw",
   "metadata": {
    "vscode": {
     "languageId": "raw"
    }
   },
   "source": [
    "500 mm diameter spun CI pipe\n",
    "installed in 1961\n",
    "failed totally the 10 august 2013\n",
    "nominal thickness of 15 mm\n",
    "longitudinal barrel fracture\n",
    "Cd 0.67\n",
    "crack length inserted in the bell 175mm\n",
    "\n",
    "pressure changes 390 to 520 kPa\n",
    "14 events per day\n",
    "predicted crack growth over 51 years (outside the bell and starting at 180mm)\n",
    "\n",
    "critical crack calculated conservatively as 300 mm\n",
    "unstable crack growth expected after 250 mm\n",
    "\n",
    "during the stable growth the flow  was calculated as less than 0.03 L/s\n"
   ]
  },
  {
   "cell_type": "code",
   "execution_count": null,
   "metadata": {},
   "outputs": [],
   "source": [
    "import crackGrowthCalculations as cg"
   ]
  },
  {
   "cell_type": "code",
   "execution_count": null,
   "metadata": {},
   "outputs": [],
   "source": [
    "# installed in 1961 and fiales totally 10 aug 2013\n",
    "# age of failure = 52 years\n",
    "diam= 0.5 #m  #500 mm spun CI pipe\n",
    "E= 108500000000 #Pa #108.5 GPa\n",
    "# longitudinal barrel fracture\n",
    "Cd= 0.67 # assumed in the paper\n",
    "cLenght= 0.18 #m assumed\n",
    "cLenLeaking = 0.175 #m meassured/stimated\n",
    "cPa= 2.2*10**-12\n",
    "mPa= 6.4\n",
    "#pressure changes 390 to 520 kPa, 14 events per day\n",
    "PmaxX= 52 #m 520 kPa (could be larger 53) a zero degrees\n",
    "PminX= 39 #m 390 kPa (could be larger 39.7)\n",
    "N= 14\n",
    "deltaP = (520-390)/1000 #Mpa\n",
    "\n",
    "thickness=  0.015#0.0138 # and nominal thickness when installed 15 mm\n",
    "widthC =0.00017\n",
    "\n",
    "#predicted crack growth for 51 years outside the bell and starting at 180 mm\n",
    "#critical crack 300 mm (calculated) unstable after 250 mm\n",
    "#flow during the stable was 0.03 L/s\n",
    "\n",
    "\n",
    "#vPoiss= 0.3\n",
    "#AIni= cLenght * 0.00001\n",
    "\n",
    "\n",
    "#should uncommnet the -0.175 in the method\n",
    "crix, timx, Hdx, lengx, areax, flowx = cg.createCurveUntilDetectable(widthC,Cd,E,cPa,mPa,\n",
    "                                                                      thickness,diam,cLenght,N,PmaxX,PminX,0.175)\n",
    "    \n",
    "graphsAllGrowth(timx,Hdx, lengx, flowx)"
   ]
  }
 ],
 "metadata": {
  "kernelspec": {
   "display_name": "Python 3",
   "language": "python",
   "name": "python3"
  },
  "language_info": {
   "name": "python",
   "version": "3.7.4"
  }
 },
 "nbformat": 4,
 "nbformat_minor": 2
}
